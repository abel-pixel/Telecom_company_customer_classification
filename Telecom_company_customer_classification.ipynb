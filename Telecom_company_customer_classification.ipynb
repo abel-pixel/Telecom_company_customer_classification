{
 "cells": [
  {
   "cell_type": "markdown",
   "metadata": {},
   "source": [
    "# Рекомендация тарифов"
   ]
  },
  {
   "cell_type": "markdown",
   "metadata": {},
   "source": [
    "В вашем распоряжении данные о поведении клиентов, которые уже перешли на эти тарифы (из проекта курса «Статистический анализ данных»). Нужно построить модель для задачи классификации, которая выберет подходящий тариф. Предобработка данных не понадобится — вы её уже сделали.\n",
    "\n",
    "Постройте модель с максимально большим значением *accuracy*. Чтобы сдать проект успешно, нужно довести долю правильных ответов по крайней мере до 0.75. Проверьте *accuracy* на тестовой выборке самостоятельно."
   ]
  },
  {
   "cell_type": "markdown",
   "metadata": {},
   "source": [
    "## Откройте и изучите файл"
   ]
  },
  {
   "cell_type": "code",
   "execution_count": 1,
   "metadata": {},
   "outputs": [],
   "source": [
    "import pandas as pd\n",
    "import numpy as np\n",
    "import matplotlib.pyplot as plt\n",
    "\n",
    "from sklearn.model_selection import train_test_split\n",
    "from sklearn.metrics import accuracy_score\n",
    "from sklearn.tree import DecisionTreeClassifier\n",
    "from sklearn.ensemble import RandomForestClassifier\n",
    "from sklearn.linear_model import LogisticRegression\n",
    "from sklearn.dummy import DummyClassifier"
   ]
  },
  {
   "cell_type": "code",
   "execution_count": 2,
   "metadata": {},
   "outputs": [],
   "source": [
    "data = pd.read_csv('/datasets/users_behavior.csv')"
   ]
  },
  {
   "cell_type": "code",
   "execution_count": 3,
   "metadata": {},
   "outputs": [
    {
     "data": {
      "text/html": [
       "<div>\n",
       "<style scoped>\n",
       "    .dataframe tbody tr th:only-of-type {\n",
       "        vertical-align: middle;\n",
       "    }\n",
       "\n",
       "    .dataframe tbody tr th {\n",
       "        vertical-align: top;\n",
       "    }\n",
       "\n",
       "    .dataframe thead th {\n",
       "        text-align: right;\n",
       "    }\n",
       "</style>\n",
       "<table border=\"1\" class=\"dataframe\">\n",
       "  <thead>\n",
       "    <tr style=\"text-align: right;\">\n",
       "      <th></th>\n",
       "      <th>calls</th>\n",
       "      <th>minutes</th>\n",
       "      <th>messages</th>\n",
       "      <th>mb_used</th>\n",
       "      <th>is_ultra</th>\n",
       "    </tr>\n",
       "  </thead>\n",
       "  <tbody>\n",
       "    <tr>\n",
       "      <th>0</th>\n",
       "      <td>40.0</td>\n",
       "      <td>311.90</td>\n",
       "      <td>83.0</td>\n",
       "      <td>19915.42</td>\n",
       "      <td>0</td>\n",
       "    </tr>\n",
       "    <tr>\n",
       "      <th>1</th>\n",
       "      <td>85.0</td>\n",
       "      <td>516.75</td>\n",
       "      <td>56.0</td>\n",
       "      <td>22696.96</td>\n",
       "      <td>0</td>\n",
       "    </tr>\n",
       "    <tr>\n",
       "      <th>2</th>\n",
       "      <td>77.0</td>\n",
       "      <td>467.66</td>\n",
       "      <td>86.0</td>\n",
       "      <td>21060.45</td>\n",
       "      <td>0</td>\n",
       "    </tr>\n",
       "    <tr>\n",
       "      <th>3</th>\n",
       "      <td>106.0</td>\n",
       "      <td>745.53</td>\n",
       "      <td>81.0</td>\n",
       "      <td>8437.39</td>\n",
       "      <td>1</td>\n",
       "    </tr>\n",
       "    <tr>\n",
       "      <th>4</th>\n",
       "      <td>66.0</td>\n",
       "      <td>418.74</td>\n",
       "      <td>1.0</td>\n",
       "      <td>14502.75</td>\n",
       "      <td>0</td>\n",
       "    </tr>\n",
       "  </tbody>\n",
       "</table>\n",
       "</div>"
      ],
      "text/plain": [
       "   calls  minutes  messages   mb_used  is_ultra\n",
       "0   40.0   311.90      83.0  19915.42         0\n",
       "1   85.0   516.75      56.0  22696.96         0\n",
       "2   77.0   467.66      86.0  21060.45         0\n",
       "3  106.0   745.53      81.0   8437.39         1\n",
       "4   66.0   418.74       1.0  14502.75         0"
      ]
     },
     "execution_count": 3,
     "metadata": {},
     "output_type": "execute_result"
    }
   ],
   "source": [
    "data.head()"
   ]
  },
  {
   "cell_type": "code",
   "execution_count": 4,
   "metadata": {},
   "outputs": [
    {
     "name": "stdout",
     "output_type": "stream",
     "text": [
      "<class 'pandas.core.frame.DataFrame'>\n",
      "RangeIndex: 3214 entries, 0 to 3213\n",
      "Data columns (total 5 columns):\n",
      " #   Column    Non-Null Count  Dtype  \n",
      "---  ------    --------------  -----  \n",
      " 0   calls     3214 non-null   float64\n",
      " 1   minutes   3214 non-null   float64\n",
      " 2   messages  3214 non-null   float64\n",
      " 3   mb_used   3214 non-null   float64\n",
      " 4   is_ultra  3214 non-null   int64  \n",
      "dtypes: float64(4), int64(1)\n",
      "memory usage: 125.7 KB\n"
     ]
    }
   ],
   "source": [
    "data.info()"
   ]
  },
  {
   "cell_type": "code",
   "execution_count": 5,
   "metadata": {},
   "outputs": [
    {
     "data": {
      "text/plain": [
       "0"
      ]
     },
     "execution_count": 5,
     "metadata": {},
     "output_type": "execute_result"
    }
   ],
   "source": [
    "data.duplicated().sum()"
   ]
  },
  {
   "cell_type": "markdown",
   "metadata": {},
   "source": [
    "### Вывод"
   ]
  },
  {
   "cell_type": "markdown",
   "metadata": {},
   "source": [
    "Каждый объект в наборе данных — это информация о поведении одного пользователя за месяц.\n",
    "Таким образом для каждого из 3214 клиентов мы знаем количество звонков, минут, сообщений и мегабайт-интернет трафика, а также каким тарифом пользуется клиент (если 0 то Смарт, если 1 то Ультра).\n",
    "По условию данные в предобработке не нуждаются. Пропусков в них нет."
   ]
  },
  {
   "cell_type": "markdown",
   "metadata": {},
   "source": [
    "## Разбейте данные на выборки"
   ]
  },
  {
   "cell_type": "code",
   "execution_count": 6,
   "metadata": {},
   "outputs": [],
   "source": [
    "#Разделим исходные данные на обучающую, валидационную и тестовую выборки.\n",
    "\n",
    "features = data.drop(['is_ultra'], axis=1)\n",
    "target = data['is_ultra']"
   ]
  },
  {
   "cell_type": "markdown",
   "metadata": {},
   "source": [
    "Исходные данные разбивают в соотношении 3:1:1."
   ]
  },
  {
   "cell_type": "markdown",
   "metadata": {},
   "source": [
    "### Обучающая"
   ]
  },
  {
   "cell_type": "code",
   "execution_count": 7,
   "metadata": {},
   "outputs": [],
   "source": [
    "features_train, features_test, target_train, target_test = train_test_split(features, \n",
    "                                                                            target, \n",
    "                                                                            test_size=0.4, \n",
    "                                                                            random_state=12345\n",
    "                                                                           ) "
   ]
  },
  {
   "cell_type": "code",
   "execution_count": 8,
   "metadata": {},
   "outputs": [
    {
     "name": "stdout",
     "output_type": "stream",
     "text": [
      "(1928, 4)\n",
      "(1928,)\n"
     ]
    }
   ],
   "source": [
    "#Размер обучающей выборки\n",
    "\n",
    "print(features_train.shape)\n",
    "print(target_train.shape)"
   ]
  },
  {
   "cell_type": "markdown",
   "metadata": {},
   "source": [
    "### Валидационная и тестовая"
   ]
  },
  {
   "cell_type": "code",
   "execution_count": 9,
   "metadata": {},
   "outputs": [],
   "source": [
    "features_valid, features_test, target_valid, target_test = train_test_split(features_test, \n",
    "                                                                            target_test, \n",
    "                                                                            test_size=0.5, \n",
    "                                                                            random_state=12345\n",
    "                                                                           ) "
   ]
  },
  {
   "cell_type": "code",
   "execution_count": 10,
   "metadata": {},
   "outputs": [
    {
     "name": "stdout",
     "output_type": "stream",
     "text": [
      "(643, 4)\n",
      "(643,)\n"
     ]
    }
   ],
   "source": [
    "#Размер валидационной выборки\n",
    "\n",
    "print(features_valid.shape)\n",
    "print(target_valid.shape)"
   ]
  },
  {
   "cell_type": "code",
   "execution_count": 11,
   "metadata": {},
   "outputs": [
    {
     "name": "stdout",
     "output_type": "stream",
     "text": [
      "(643, 4)\n",
      "(643,)\n"
     ]
    }
   ],
   "source": [
    "#Размер тестовой выборки\n",
    "\n",
    "print(features_test.shape)\n",
    "print(target_test.shape)"
   ]
  },
  {
   "cell_type": "markdown",
   "metadata": {},
   "source": [
    "<div class=\"alert-success\"> \n",
    "<b>Комментарий ревьюера 👍</b>\n",
    "\n",
    "Выборки разделены верно, хвалю за то, что проверены размеры выборок с помощью shape"
   ]
  },
  {
   "cell_type": "markdown",
   "metadata": {},
   "source": [
    "## Исследуйте модели"
   ]
  },
  {
   "cell_type": "markdown",
   "metadata": {},
   "source": [
    "В столбец \"is_ultra\" отражено какой тариф использует клиент, Смарт или Ультра, следовательно этот признак является категориальным. Следовательно нам необходимо решить задачу классификации.\n",
    "\n",
    "В процессе моделирования будем использовать следующие модели машинного обучения:\n",
    "\n",
    "- ****Решающее дерево****\n",
    "\n",
    "- ****Случайный лес****\n",
    "\n",
    "- ****Логистическая регрессия****"
   ]
  },
  {
   "cell_type": "markdown",
   "metadata": {},
   "source": [
    "### Решающее дерево"
   ]
  },
  {
   "cell_type": "code",
   "execution_count": 12,
   "metadata": {},
   "outputs": [
    {
     "name": "stdout",
     "output_type": "stream",
     "text": [
      "Глубина дерева наилучшей модели \"дерево решений\": 3\n",
      "Accuracy наилучшей модели \"дерево решений\": 0.7853810264385692\n"
     ]
    }
   ],
   "source": [
    "#Построим модель \"Решающего дерева\". Гиперпараметр max_depth будем изменять в пределах от 1 до 10 в цикле.\n",
    "\n",
    "best_model = None\n",
    "model_depth_four = None \n",
    "best_depth = 0\n",
    "best_result = 0\n",
    "depth_dt = []\n",
    "accuracy_train_dt = []\n",
    "accuracy_valid_dt = []\n",
    "for depth in range(1, 11):\n",
    "    \n",
    "    model_dt = DecisionTreeClassifier(random_state=12345, max_depth=depth)\n",
    "    model_dt.fit(features_train, target_train)\n",
    "    result_train = model_dt.score(features_train, target_train) \n",
    "    result_valid = model_dt.score(features_valid, target_valid) \n",
    "    depth_dt.append(depth)\n",
    "    accuracy_train_dt.append(result_train) \n",
    "    accuracy_valid_dt.append(result_valid) \n",
    "    if result_valid > best_result:\n",
    "        best_model = model_dt \n",
    "        best_depth = depth \n",
    "        \n",
    "        best_result = result_valid\n",
    "    elif depth == 4:\n",
    "        model_depth_four = model_dt \n",
    "\n",
    "print('Глубина дерева наилучшей модели \"дерево решений\":', best_depth)\n",
    "print('Accuracy наилучшей модели \"дерево решений\":', best_result)        "
   ]
  },
  {
   "cell_type": "code",
   "execution_count": 13,
   "metadata": {},
   "outputs": [
    {
     "data": {
      "image/png": "[encoded data removed]",
      "text/plain": [
       "<Figure size 1152x432 with 1 Axes>"
      ]
     },
     "metadata": {
      "needs_background": "light"
     },
     "output_type": "display_data"
    }
   ],
   "source": [
    "# Построим график на моделей \"Решающего дерева\" от глубины дерева на обучающей и валидационной выборках:\n",
    "\n",
    "plt.figure(figsize=(16, 6))\n",
    "plt.grid(True)\n",
    "plt.plot(depth_dt, accuracy_train_dt)\n",
    "plt.plot(depth_dt, accuracy_valid_dt)\n",
    "plt.legend(['Обучающая выборка', 'Валидационная выборка'])\n",
    "plt.xlabel('Глубина дерева (depth)')\n",
    "plt.ylabel('Качество модели (accuracy)')\n",
    "plt.title('Моделей \"Решающего дерева\" от глубины дерева на обучающей и валидационной выборке')\n",
    "plt.show()"
   ]
  },
  {
   "cell_type": "markdown",
   "metadata": {},
   "source": [
    "### Случайный лес"
   ]
  },
  {
   "cell_type": "code",
   "execution_count": 14,
   "metadata": {},
   "outputs": [
    {
     "name": "stdout",
     "output_type": "stream",
     "text": [
      "Количество деревьев наилучшей модели \"случайный лес\": 8\n",
      "Глубина дерева наилучшей модели \"случайный лес\": 8\n",
      "Accuracy наилучшей модели \"случайный лес\": 0.80248833592535\n"
     ]
    }
   ],
   "source": [
    "# Настроим гиперпараметры модели 'случайный лес' и сделаем цикл для n_estimators и max_depth от 1 до 10:\n",
    "\n",
    "best_model = None\n",
    "best_est = 0\n",
    "best_depth = 0\n",
    "best_result = 0\n",
    "for est in range(1, 11):\n",
    "    for depth in range (1, 11):\n",
    "        model_rf = RandomForestClassifier(random_state=12345, n_estimators=est, max_depth=depth)\n",
    "        model_rf.fit(features_train, target_train) \n",
    "        result = model_rf.score(features_valid, target_valid) \n",
    "        if result > best_result:\n",
    "            best_model = model_rf \n",
    "            best_est = est \n",
    "            best_depth = depth \n",
    "            best_result = result \n",
    "            \n",
    "print('Количество деревьев наилучшей модели \"случайный лес\":', best_est)\n",
    "print('Глубина дерева наилучшей модели \"случайный лес\":', best_depth)\n",
    "print('Accuracy наилучшей модели \"случайный лес\":', best_result)"
   ]
  },
  {
   "cell_type": "markdown",
   "metadata": {},
   "source": [
    "### Логистическая регрессия"
   ]
  },
  {
   "cell_type": "code",
   "execution_count": 15,
   "metadata": {},
   "outputs": [
    {
     "name": "stdout",
     "output_type": "stream",
     "text": [
      "Accuracy модели 'логистическая регрессия': 0.7107\n"
     ]
    }
   ],
   "source": [
    "model_lr = LogisticRegression(random_state=12345, solver='lbfgs')\n",
    "\n",
    "model_lr.fit(features_train, target_train)\n",
    "\n",
    "predictions_lr = model_lr.predict(features_valid)\n",
    "\n",
    "accuracy_lr = round(accuracy_score(target_valid, predictions_lr), 4)\n",
    "print(\"Accuracy модели 'логистическая регрессия':\", accuracy_lr)"
   ]
  },
  {
   "cell_type": "markdown",
   "metadata": {},
   "source": [
    "### Вывод"
   ]
  },
  {
   "cell_type": "markdown",
   "metadata": {},
   "source": [
    "- Наилучший результат Accuracy у модели решающего дерева - **DecisionTreeClassifier** -  0.7744945567651633\n",
    "\n",
    "- Результат Accuracy у модели случайного леса - **RandomForestClassifier** - 0.7916018662519441\n",
    "\n",
    "- Результат Accuracy у модели логистической регрессии - **LogisticRegression** - 0.7589424572317263\n",
    "\n",
    "Качество модели \"логистическая регрессия\" на валидационной выборке ниже, чем у моделей \"дерево решений\" и \"случайный лес\".\n",
    "\n",
    "Итак, на валидационной выборке по качеству лидирует модель \"случайный лес."
   ]
  },
  {
   "cell_type": "markdown",
   "metadata": {},
   "source": [
    "## Проверьте модель на тестовой выборке"
   ]
  },
  {
   "cell_type": "code",
   "execution_count": 16,
   "metadata": {},
   "outputs": [
    {
     "name": "stdout",
     "output_type": "stream",
     "text": [
      "Доля правильных ответов accuracy в модели 'случайный лес': 0.8009\n"
     ]
    }
   ],
   "source": [
    "# Проверим на тестовой выборке качество модели 'случайный лес' \n",
    "predictions_rf_test = model_rf.predict(features_test)\n",
    "accuracy_rf_test = round(accuracy_score(target_test, predictions_rf_test),4)\n",
    "print(\"Доля правильных ответов accuracy в модели 'случайный лес':\", accuracy_rf_test)"
   ]
  },
  {
   "cell_type": "code",
   "execution_count": 17,
   "metadata": {},
   "outputs": [
    {
     "name": "stdout",
     "output_type": "stream",
     "text": [
      "Accuracy DummyClassifier: 0.7060653188180405\n"
     ]
    }
   ],
   "source": [
    "model_dc = DummyClassifier(strategy='most_frequent', random_state=12345)\n",
    "model_dc.fit(features_train, target_train)\n",
    "result_dc = model_dc.score(features_valid, target_valid)\n",
    "print('Accuracy DummyClassifier:', result_dc)"
   ]
  },
  {
   "cell_type": "code",
   "execution_count": 18,
   "metadata": {},
   "outputs": [
    {
     "name": "stdout",
     "output_type": "stream",
     "text": [
      "Accuracy RandomForestClassifier: 0.8009\n"
     ]
    }
   ],
   "source": [
    "print('Accuracy RandomForestClassifier:',accuracy_rf_test)"
   ]
  },
  {
   "cell_type": "markdown",
   "metadata": {},
   "source": [
    "### Вывод"
   ]
  },
  {
   "cell_type": "markdown",
   "metadata": {},
   "source": [
    "Accuracy модели **DummyClassifier** ниже, чем у модели случайного леса **(RandomForestClassifier)** - модель адекватна и эффективна."
   ]
  },
  {
   "cell_type": "markdown",
   "metadata": {},
   "source": [
    "## Общий вывод"
   ]
  },
  {
   "cell_type": "markdown",
   "metadata": {},
   "source": [
    "- Предоставленные данные чистые, без артефактов и прочего;\n",
    "\n",
    "- Были исследованы модели **Decision Tree Classifier**, **RandomForestClassifier** и **Logistic Regression**;\n",
    "\n",
    "- Наилучшую эффективность (точность/скорость) показала модель RandomForestClassifier с гиперпараметрами n_estimators равным - 8 и max_depth равным 8;\n",
    "\n",
    "- Модель **RandomForestClassifier** с наилучшими гиперапараметрами была проверена на тестовой выборке и показала результат Accuracy - 0.7962674961119751;\n",
    "\n",
    "- Также модель **RandomForestClassifier** проверенная на тестовой выборке была проверена на вменяемость - для проверки использовалась модель **DummyClassifier**, которая показала результат Accuracy - 0.7060653188180405."
   ]
  }
 ],
 "metadata": {
  "ExecuteTimeLog": [
   {
    "duration": 1800,
    "start_time": "2023-01-06T22:42:42.029Z"
   },
   {
    "duration": 162,
    "start_time": "2023-01-06T22:43:42.677Z"
   },
   {
    "duration": 14,
    "start_time": "2023-01-06T22:43:54.065Z"
   },
   {
    "duration": 12,
    "start_time": "2023-01-06T22:44:18.367Z"
   },
   {
    "duration": 8,
    "start_time": "2023-01-06T22:46:05.164Z"
   },
   {
    "duration": 8,
    "start_time": "2023-01-06T22:46:25.729Z"
   },
   {
    "duration": 4,
    "start_time": "2023-01-06T22:47:56.450Z"
   },
   {
    "duration": 11,
    "start_time": "2023-01-06T22:48:25.158Z"
   },
   {
    "duration": 4,
    "start_time": "2023-01-06T23:10:34.074Z"
   },
   {
    "duration": 6,
    "start_time": "2023-01-06T23:15:01.818Z"
   },
   {
    "duration": 11,
    "start_time": "2023-01-06T23:15:24.340Z"
   },
   {
    "duration": 5,
    "start_time": "2023-01-06T23:16:57.290Z"
   },
   {
    "duration": 3,
    "start_time": "2023-01-06T23:17:42.373Z"
   },
   {
    "duration": 5,
    "start_time": "2023-01-06T23:17:55.171Z"
   },
   {
    "duration": 7,
    "start_time": "2023-01-06T23:18:06.758Z"
   },
   {
    "duration": 4,
    "start_time": "2023-01-06T23:18:23.867Z"
   },
   {
    "duration": 3,
    "start_time": "2023-01-06T23:18:51.157Z"
   },
   {
    "duration": 4,
    "start_time": "2023-01-06T23:20:06.981Z"
   },
   {
    "duration": 69,
    "start_time": "2023-01-06T23:20:28.506Z"
   },
   {
    "duration": 1625,
    "start_time": "2023-01-07T13:14:00.558Z"
   },
   {
    "duration": 66,
    "start_time": "2023-01-07T13:14:02.185Z"
   },
   {
    "duration": 15,
    "start_time": "2023-01-07T13:14:02.253Z"
   },
   {
    "duration": 14,
    "start_time": "2023-01-07T13:14:02.270Z"
   },
   {
    "duration": 17,
    "start_time": "2023-01-07T13:14:02.286Z"
   },
   {
    "duration": 5,
    "start_time": "2023-01-07T13:14:02.304Z"
   },
   {
    "duration": 8,
    "start_time": "2023-01-07T13:14:02.310Z"
   },
   {
    "duration": 5,
    "start_time": "2023-01-07T13:14:02.320Z"
   },
   {
    "duration": 5,
    "start_time": "2023-01-07T13:14:02.327Z"
   },
   {
    "duration": 6,
    "start_time": "2023-01-07T13:14:02.335Z"
   },
   {
    "duration": 5,
    "start_time": "2023-01-07T13:14:02.343Z"
   },
   {
    "duration": 110,
    "start_time": "2023-01-07T13:26:04.050Z"
   },
   {
    "duration": 27,
    "start_time": "2023-01-07T13:28:30.440Z"
   },
   {
    "duration": 102,
    "start_time": "2023-01-07T13:34:12.987Z"
   },
   {
    "duration": 86,
    "start_time": "2023-01-07T13:41:00.229Z"
   },
   {
    "duration": 64,
    "start_time": "2023-01-07T13:42:37.264Z"
   },
   {
    "duration": 37,
    "start_time": "2023-01-07T13:46:29.844Z"
   },
   {
    "duration": 23,
    "start_time": "2023-01-07T13:46:37.450Z"
   },
   {
    "duration": 22,
    "start_time": "2023-01-07T13:47:48.032Z"
   },
   {
    "duration": 58,
    "start_time": "2023-01-07T13:51:41.840Z"
   },
   {
    "duration": 62,
    "start_time": "2023-01-07T13:52:12.510Z"
   },
   {
    "duration": 103,
    "start_time": "2023-01-07T14:02:38.124Z"
   },
   {
    "duration": 58,
    "start_time": "2023-01-07T14:03:00.742Z"
   },
   {
    "duration": 1502,
    "start_time": "2023-01-07T14:08:05.686Z"
   },
   {
    "duration": 1488,
    "start_time": "2023-01-07T14:08:26.929Z"
   },
   {
    "duration": 1702,
    "start_time": "2023-01-07T14:12:29.462Z"
   },
   {
    "duration": 1520,
    "start_time": "2023-01-07T14:13:21.454Z"
   },
   {
    "duration": 22,
    "start_time": "2023-01-07T14:13:36.278Z"
   },
   {
    "duration": 69,
    "start_time": "2023-01-07T14:14:03.958Z"
   },
   {
    "duration": 8,
    "start_time": "2023-01-07T14:15:18.907Z"
   },
   {
    "duration": 99,
    "start_time": "2023-01-07T14:25:24.622Z"
   },
   {
    "duration": 38,
    "start_time": "2023-01-07T14:29:30.040Z"
   },
   {
    "duration": 9,
    "start_time": "2023-01-07T14:31:33.425Z"
   },
   {
    "duration": 8,
    "start_time": "2023-01-07T14:33:11.283Z"
   },
   {
    "duration": 9,
    "start_time": "2023-01-07T14:33:59.039Z"
   },
   {
    "duration": 1562,
    "start_time": "2023-01-07T14:39:33.462Z"
   },
   {
    "duration": 11,
    "start_time": "2023-01-07T14:40:19.140Z"
   },
   {
    "duration": 1264,
    "start_time": "2023-01-07T14:41:27.706Z"
   },
   {
    "duration": 30,
    "start_time": "2023-01-07T14:41:28.972Z"
   },
   {
    "duration": 24,
    "start_time": "2023-01-07T14:41:29.003Z"
   },
   {
    "duration": 10,
    "start_time": "2023-01-07T14:41:29.029Z"
   },
   {
    "duration": 9,
    "start_time": "2023-01-07T14:41:29.041Z"
   },
   {
    "duration": 3,
    "start_time": "2023-01-07T14:41:29.052Z"
   },
   {
    "duration": 6,
    "start_time": "2023-01-07T14:41:29.057Z"
   },
   {
    "duration": 6,
    "start_time": "2023-01-07T14:41:29.064Z"
   },
   {
    "duration": 5,
    "start_time": "2023-01-07T14:41:29.071Z"
   },
   {
    "duration": 4,
    "start_time": "2023-01-07T14:41:29.078Z"
   },
   {
    "duration": 8,
    "start_time": "2023-01-07T14:41:29.083Z"
   },
   {
    "duration": 76,
    "start_time": "2023-01-07T14:41:29.093Z"
   },
   {
    "duration": 1539,
    "start_time": "2023-01-07T14:41:29.170Z"
   },
   {
    "duration": 30,
    "start_time": "2023-01-07T14:41:30.712Z"
   },
   {
    "duration": 9,
    "start_time": "2023-01-07T14:41:30.743Z"
   },
   {
    "duration": 22,
    "start_time": "2023-01-07T14:41:30.754Z"
   },
   {
    "duration": 3,
    "start_time": "2023-01-07T14:42:51.056Z"
   },
   {
    "duration": 8,
    "start_time": "2023-01-07T14:43:06.641Z"
   },
   {
    "duration": 9,
    "start_time": "2023-01-07T14:43:16.121Z"
   },
   {
    "duration": 1223,
    "start_time": "2023-01-07T15:12:42.060Z"
   },
   {
    "duration": 35,
    "start_time": "2023-01-07T15:12:43.285Z"
   },
   {
    "duration": 12,
    "start_time": "2023-01-07T15:12:43.325Z"
   },
   {
    "duration": 11,
    "start_time": "2023-01-07T15:12:43.339Z"
   },
   {
    "duration": 6,
    "start_time": "2023-01-07T15:12:43.352Z"
   },
   {
    "duration": 8,
    "start_time": "2023-01-07T15:12:43.360Z"
   },
   {
    "duration": 18,
    "start_time": "2023-01-07T15:12:43.369Z"
   },
   {
    "duration": 19,
    "start_time": "2023-01-07T15:12:43.389Z"
   },
   {
    "duration": 26,
    "start_time": "2023-01-07T15:12:43.410Z"
   },
   {
    "duration": 4,
    "start_time": "2023-01-07T15:12:43.438Z"
   },
   {
    "duration": 10,
    "start_time": "2023-01-07T15:12:43.444Z"
   },
   {
    "duration": 63,
    "start_time": "2023-01-07T15:12:43.456Z"
   },
   {
    "duration": 1551,
    "start_time": "2023-01-07T15:12:43.528Z"
   },
   {
    "duration": 22,
    "start_time": "2023-01-07T15:12:45.081Z"
   },
   {
    "duration": 9,
    "start_time": "2023-01-07T15:12:45.114Z"
   },
   {
    "duration": 17,
    "start_time": "2023-01-07T15:12:45.124Z"
   },
   {
    "duration": 8,
    "start_time": "2023-01-07T15:12:45.142Z"
   },
   {
    "duration": 1601,
    "start_time": "2023-01-12T10:35:33.846Z"
   },
   {
    "duration": 75,
    "start_time": "2023-01-12T10:35:35.449Z"
   },
   {
    "duration": 54,
    "start_time": "2023-01-12T10:35:35.526Z"
   },
   {
    "duration": 26,
    "start_time": "2023-01-12T10:35:35.581Z"
   },
   {
    "duration": 28,
    "start_time": "2023-01-12T10:35:35.610Z"
   },
   {
    "duration": 33,
    "start_time": "2023-01-12T10:35:35.640Z"
   },
   {
    "duration": 39,
    "start_time": "2023-01-12T10:35:35.675Z"
   },
   {
    "duration": 61,
    "start_time": "2023-01-12T10:35:35.716Z"
   },
   {
    "duration": 29,
    "start_time": "2023-01-12T10:35:35.780Z"
   },
   {
    "duration": 37,
    "start_time": "2023-01-12T10:35:35.811Z"
   },
   {
    "duration": 39,
    "start_time": "2023-01-12T10:35:35.851Z"
   },
   {
    "duration": 101,
    "start_time": "2023-01-12T10:35:35.892Z"
   },
   {
    "duration": 1737,
    "start_time": "2023-01-12T10:35:35.995Z"
   },
   {
    "duration": 23,
    "start_time": "2023-01-12T10:35:37.735Z"
   },
   {
    "duration": 18,
    "start_time": "2023-01-12T10:35:37.760Z"
   },
   {
    "duration": 34,
    "start_time": "2023-01-12T10:35:37.780Z"
   },
   {
    "duration": 42,
    "start_time": "2023-01-12T10:35:37.816Z"
   },
   {
    "duration": 107,
    "start_time": "2023-01-12T10:41:42.998Z"
   },
   {
    "duration": 88,
    "start_time": "2023-01-12T10:43:57.281Z"
   },
   {
    "duration": 82,
    "start_time": "2023-01-12T10:44:10.513Z"
   },
   {
    "duration": 88,
    "start_time": "2023-01-12T10:50:11.512Z"
   },
   {
    "duration": 1593,
    "start_time": "2023-01-12T10:53:48.085Z"
   },
   {
    "duration": 195,
    "start_time": "2023-01-12T10:59:09.132Z"
   },
   {
    "duration": 189,
    "start_time": "2023-01-12T10:59:33.204Z"
   },
   {
    "duration": 75,
    "start_time": "2023-01-12T11:00:21.534Z"
   },
   {
    "duration": 182,
    "start_time": "2023-01-12T11:00:35.012Z"
   },
   {
    "duration": 145,
    "start_time": "2023-01-12T11:05:53.872Z"
   },
   {
    "duration": 5,
    "start_time": "2023-01-12T11:06:50.664Z"
   },
   {
    "duration": 1349,
    "start_time": "2023-01-12T11:07:06.650Z"
   },
   {
    "duration": 39,
    "start_time": "2023-01-12T11:07:08.001Z"
   },
   {
    "duration": 14,
    "start_time": "2023-01-12T11:07:08.042Z"
   },
   {
    "duration": 19,
    "start_time": "2023-01-12T11:07:08.059Z"
   },
   {
    "duration": 12,
    "start_time": "2023-01-12T11:07:08.080Z"
   },
   {
    "duration": 16,
    "start_time": "2023-01-12T11:07:08.094Z"
   },
   {
    "duration": 28,
    "start_time": "2023-01-12T11:07:08.112Z"
   },
   {
    "duration": 17,
    "start_time": "2023-01-12T11:07:08.142Z"
   },
   {
    "duration": 10,
    "start_time": "2023-01-12T11:07:08.161Z"
   },
   {
    "duration": 33,
    "start_time": "2023-01-12T11:07:08.173Z"
   },
   {
    "duration": 17,
    "start_time": "2023-01-12T11:07:08.208Z"
   },
   {
    "duration": 85,
    "start_time": "2023-01-12T11:07:08.227Z"
   },
   {
    "duration": 212,
    "start_time": "2023-01-12T11:07:08.313Z"
   },
   {
    "duration": 1688,
    "start_time": "2023-01-12T11:07:08.527Z"
   },
   {
    "duration": 25,
    "start_time": "2023-01-12T11:07:10.216Z"
   },
   {
    "duration": 9,
    "start_time": "2023-01-12T11:07:10.242Z"
   },
   {
    "duration": 119,
    "start_time": "2023-01-12T11:07:10.252Z"
   },
   {
    "duration": 0,
    "start_time": "2023-01-12T11:07:10.373Z"
   },
   {
    "duration": 0,
    "start_time": "2023-01-12T11:07:10.374Z"
   },
   {
    "duration": 1263,
    "start_time": "2023-01-12T11:09:19.109Z"
   },
   {
    "duration": 27,
    "start_time": "2023-01-12T11:09:20.374Z"
   },
   {
    "duration": 15,
    "start_time": "2023-01-12T11:09:20.403Z"
   },
   {
    "duration": 12,
    "start_time": "2023-01-12T11:09:20.420Z"
   },
   {
    "duration": 12,
    "start_time": "2023-01-12T11:09:20.434Z"
   },
   {
    "duration": 7,
    "start_time": "2023-01-12T11:09:20.448Z"
   },
   {
    "duration": 14,
    "start_time": "2023-01-12T11:09:20.456Z"
   },
   {
    "duration": 9,
    "start_time": "2023-01-12T11:09:20.472Z"
   },
   {
    "duration": 9,
    "start_time": "2023-01-12T11:09:20.483Z"
   },
   {
    "duration": 14,
    "start_time": "2023-01-12T11:09:20.494Z"
   },
   {
    "duration": 7,
    "start_time": "2023-01-12T11:09:20.510Z"
   },
   {
    "duration": 94,
    "start_time": "2023-01-12T11:09:20.519Z"
   },
   {
    "duration": 202,
    "start_time": "2023-01-12T11:09:20.615Z"
   },
   {
    "duration": 1618,
    "start_time": "2023-01-12T11:09:20.818Z"
   },
   {
    "duration": 23,
    "start_time": "2023-01-12T11:09:22.437Z"
   },
   {
    "duration": 18,
    "start_time": "2023-01-12T11:09:22.462Z"
   },
   {
    "duration": 6,
    "start_time": "2023-01-12T11:09:22.482Z"
   },
   {
    "duration": 11,
    "start_time": "2023-01-12T11:09:22.490Z"
   },
   {
    "duration": 1360,
    "start_time": "2023-01-12T11:11:06.554Z"
   },
   {
    "duration": 27,
    "start_time": "2023-01-12T11:11:07.916Z"
   },
   {
    "duration": 15,
    "start_time": "2023-01-12T11:11:07.944Z"
   },
   {
    "duration": 20,
    "start_time": "2023-01-12T11:11:07.961Z"
   },
   {
    "duration": 11,
    "start_time": "2023-01-12T11:11:07.982Z"
   },
   {
    "duration": 5,
    "start_time": "2023-01-12T11:11:07.995Z"
   },
   {
    "duration": 9,
    "start_time": "2023-01-12T11:11:08.002Z"
   },
   {
    "duration": 13,
    "start_time": "2023-01-12T11:11:08.013Z"
   },
   {
    "duration": 12,
    "start_time": "2023-01-12T11:11:08.028Z"
   },
   {
    "duration": 6,
    "start_time": "2023-01-12T11:11:08.043Z"
   },
   {
    "duration": 6,
    "start_time": "2023-01-12T11:11:08.051Z"
   },
   {
    "duration": 87,
    "start_time": "2023-01-12T11:11:08.059Z"
   },
   {
    "duration": 206,
    "start_time": "2023-01-12T11:11:08.148Z"
   },
   {
    "duration": 1667,
    "start_time": "2023-01-12T11:11:08.356Z"
   },
   {
    "duration": 23,
    "start_time": "2023-01-12T11:11:10.025Z"
   },
   {
    "duration": 10,
    "start_time": "2023-01-12T11:11:10.049Z"
   },
   {
    "duration": 25,
    "start_time": "2023-01-12T11:11:10.060Z"
   },
   {
    "duration": 13,
    "start_time": "2023-01-12T11:11:10.087Z"
   }
  ],
  "kernelspec": {
   "display_name": "Python 3 (ipykernel)",
   "language": "python",
   "name": "python3"
  },
  "language_info": {
   "codemirror_mode": {
    "name": "ipython",
    "version": 3
   },
   "file_extension": ".py",
   "mimetype": "text/x-python",
   "name": "python",
   "nbconvert_exporter": "python",
   "pygments_lexer": "ipython3",
   "version": "3.9.5"
  },
  "toc": {
   "base_numbering": 1,
   "nav_menu": {},
   "number_sections": true,
   "sideBar": true,
   "skip_h1_title": true,
   "title_cell": "Table of Contents",
   "title_sidebar": "Contents",
   "toc_cell": false,
   "toc_position": {},
   "toc_section_display": true,
   "toc_window_display": false
  }
 },
 "nbformat": 4,
 "nbformat_minor": 2
}
